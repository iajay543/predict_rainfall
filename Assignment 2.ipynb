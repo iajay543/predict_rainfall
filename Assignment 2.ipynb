{
 "cells": [
  {
   "cell_type": "markdown",
   "metadata": {},
   "source": [
    "# FIT5202 Assessment 2\n",
    "#### Student Name: Ajay Ganapathy\n",
    "#### Student ID: 29822270\n",
    "\n",
    "Date: 18/10/2019\n",
    "\n",
    "Version: 1.0\n",
    "\n",
    "\n",
    "\n",
    "## Introduction\n",
    "\n",
    "This assignment focuses on Machine learning using pyspark. The main goal of this assignment is to predict rainfall tomorrow in Australia using several supervised machine learning algorithms such as Logistic Regression, Gradient Boosting, Decision Trees and Random Forest. This is basically a classification problem where the target/response/dependent variable is categorical i.e. it has 2 classes/categories (Yes/No). In order to do so, we perform various activities which are listed below:\n",
    "\n",
    "* Importing pyspark and Initializing Spark\n",
    "* Data Wrangling such as deleting not-so-important columns, detecting and imputing missing values, etc.\n",
    "* Data Transformation such as converting columns which hold categorical data to numerical values for the machine learning algorithms to learn.\n",
    "* Creating a feature vector and dividing the data into training and test set \n",
    "* Applying machine learning algorithms on the training set, predicting on the test set, reporting the accuracy and error on the test set\n",
    "* Model evaluation using metrics such as Confusion Matrix.\n",
    "\n",
    "More details for each task will be given in the following sections."
   ]
  },
  {
   "cell_type": "markdown",
   "metadata": {},
   "source": [
    "### Importing the libraries"
   ]
  },
  {
   "cell_type": "code",
   "execution_count": 1,
   "metadata": {},
   "outputs": [],
   "source": [
    "# create entry points to spark\n",
    "from pyspark import SparkContext, SparkConf # Spark\n",
    "from pyspark.sql import SparkSession # Spark SQL\n",
    "from pyspark.sql.types import DoubleType\n",
    "import pyspark.sql.functions as f\n",
    "from pyspark.sql.functions import isnan, when, count, col, avg, lit\n",
    "from pyspark.sql.functions import avg\n",
    "from pyspark.ml.feature import StringIndexer\n",
    "from pyspark.ml.feature import VectorAssembler\n",
    "from pyspark.ml.classification import DecisionTreeClassifier\n",
    "from pyspark.ml.classification import LogisticRegression\n",
    "from pyspark.ml.classification import RandomForestClassifier\n",
    "from pyspark.ml.evaluation import MulticlassClassificationEvaluator\n",
    "from pyspark.ml.classification import GBTClassifier\n",
    "from pyspark.mllib.evaluation import MulticlassMetrics\n",
    "from pyspark.mllib.util import MLUtils\n",
    "import matplotlib.pyplot as plt\n",
    "%matplotlib inline\n",
    "import numpy as np"
   ]
  },
  {
   "cell_type": "markdown",
   "metadata": {},
   "source": [
    "## Part A Spark Initialization and Loading of Data\n",
    "\n",
    "### Step 01 Importing Spark Session and Initializing Spark"
   ]
  },
  {
   "cell_type": "markdown",
   "metadata": {},
   "source": [
    "At the start, we import SparkContext from pyspark which is the main entry point of Spark Core functionality. It tells the Spark how to access a cluster. We also import a SparkConf object that contains various information about the Spark application such as the number of processors where we specify 4 cores and the name of the application as 'Rain Forecasting'. Further, we import SparkSession from pyspark.sql which is used to create Dataframes and SQL objects."
   ]
  },
  {
   "cell_type": "code",
   "execution_count": 2,
   "metadata": {},
   "outputs": [],
   "source": [
    "#reusing an existing spark context instead of creating one. If there is no existing spark context,\n",
    "#then create a spark context with 4 local cores in the machine\n",
    "sc = SparkContext.getOrCreate()\n",
    "if (sc is None):\n",
    "    sc = SparkContext(master=\"local[4]\", appName=\"Rain Forecasting\")\n",
    "spark = SparkSession(sparkContext=sc)"
   ]
  },
  {
   "cell_type": "markdown",
   "metadata": {},
   "source": [
    "### Step 02 Data Loading"
   ]
  },
  {
   "cell_type": "markdown",
   "metadata": {},
   "source": [
    "In this step, we load the dataset, which is a comma seperated value file into a Spark dataframe using the created SparkSession object 'spark' and read.csv() function. Further, to check the types of data stored in our dataframe, we use printSchema() function. We also print the total number of records in our dataframe using df.count() function."
   ]
  },
  {
   "cell_type": "code",
   "execution_count": 3,
   "metadata": {},
   "outputs": [
    {
     "name": "stdout",
     "output_type": "stream",
     "text": [
      "+-------------------+--------+-------+-------+--------+-----------+--------+-----------+-------------+----------+----------+------------+------------+-----------+-----------+-----------+-----------+--------+--------+-------+-------+---------+------------+\n",
      "|               Date|Location|MinTemp|MaxTemp|Rainfall|Evaporation|Sunshine|WindGustDir|WindGustSpeed|WindDir9am|WindDir3pm|WindSpeed9am|WindSpeed3pm|Humidity9am|Humidity3pm|Pressure9am|Pressure3pm|Cloud9am|Cloud3pm|Temp9am|Temp3pm|RainToday|RainTomorrow|\n",
      "+-------------------+--------+-------+-------+--------+-----------+--------+-----------+-------------+----------+----------+------------+------------+-----------+-----------+-----------+-----------+--------+--------+-------+-------+---------+------------+\n",
      "|2008-12-01 00:00:00|  Albury|   13.4|   22.9|     0.6|         NA|      NA|          W|           44|         W|       WNW|          20|          24|         71|         22|     1007.7|     1007.1|       8|      NA|   16.9|   21.8|       No|          No|\n",
      "|2008-12-02 00:00:00|  Albury|    7.4|   25.1|       0|         NA|      NA|        WNW|           44|       NNW|       WSW|           4|          22|         44|         25|     1010.6|     1007.8|      NA|      NA|   17.2|   24.3|       No|          No|\n",
      "|2008-12-03 00:00:00|  Albury|   12.9|   25.7|       0|         NA|      NA|        WSW|           46|         W|       WSW|          19|          26|         38|         30|     1007.6|     1008.7|      NA|       2|     21|   23.2|       No|          No|\n",
      "+-------------------+--------+-------+-------+--------+-----------+--------+-----------+-------------+----------+----------+------------+------------+-----------+-----------+-----------+-----------+--------+--------+-------+-------+---------+------------+\n",
      "only showing top 3 rows\n",
      "\n"
     ]
    }
   ],
   "source": [
    "#reading the dataset\n",
    "weather_df = spark.read.csv('weatherAUS.csv', header=True, inferSchema=True)\n",
    "weather_df.show(3) #displaying top 3 rows"
   ]
  },
  {
   "cell_type": "code",
   "execution_count": 4,
   "metadata": {},
   "outputs": [
    {
     "name": "stdout",
     "output_type": "stream",
     "text": [
      "root\n",
      " |-- Date: timestamp (nullable = true)\n",
      " |-- Location: string (nullable = true)\n",
      " |-- MinTemp: string (nullable = true)\n",
      " |-- MaxTemp: string (nullable = true)\n",
      " |-- Rainfall: string (nullable = true)\n",
      " |-- Evaporation: string (nullable = true)\n",
      " |-- Sunshine: string (nullable = true)\n",
      " |-- WindGustDir: string (nullable = true)\n",
      " |-- WindGustSpeed: string (nullable = true)\n",
      " |-- WindDir9am: string (nullable = true)\n",
      " |-- WindDir3pm: string (nullable = true)\n",
      " |-- WindSpeed9am: string (nullable = true)\n",
      " |-- WindSpeed3pm: string (nullable = true)\n",
      " |-- Humidity9am: string (nullable = true)\n",
      " |-- Humidity3pm: string (nullable = true)\n",
      " |-- Pressure9am: string (nullable = true)\n",
      " |-- Pressure3pm: string (nullable = true)\n",
      " |-- Cloud9am: string (nullable = true)\n",
      " |-- Cloud3pm: string (nullable = true)\n",
      " |-- Temp9am: string (nullable = true)\n",
      " |-- Temp3pm: string (nullable = true)\n",
      " |-- RainToday: string (nullable = true)\n",
      " |-- RainTomorrow: string (nullable = true)\n",
      "\n"
     ]
    }
   ],
   "source": [
    "#printing the dataset schema\n",
    "weather_df.printSchema()"
   ]
  },
  {
   "cell_type": "code",
   "execution_count": 5,
   "metadata": {},
   "outputs": [
    {
     "name": "stdout",
     "output_type": "stream",
     "text": [
      "Total number of entries in the Weather dataset : 142193\n"
     ]
    }
   ],
   "source": [
    "#displaying the total number of records in the dataset\n",
    "print(\"Total number of entries in the Weather dataset :\",weather_df.count())"
   ]
  },
  {
   "cell_type": "markdown",
   "metadata": {},
   "source": [
    "## Part B Data Wrangling\n",
    "\n",
    "### Step 03 Deleting Less Informative Columns"
   ]
  },
  {
   "cell_type": "markdown",
   "metadata": {},
   "source": [
    "In this step, we delete columns that are not contributing much to the task of predicting rainfall. \n",
    "\n",
    "Location does not have much importance in predicting whether it will rain tomorrow in Australia. \n",
    "Date is more like an index about the information so it does not contribute as well.\n",
    "\n",
    "Further, we even delete columns such as Evaporation, Sunshine, Cloud9am, Cloud3pm, Temp9am, Temp3pm. The columns are dropped using df.drop() function."
   ]
  },
  {
   "cell_type": "code",
   "execution_count": 6,
   "metadata": {},
   "outputs": [
    {
     "name": "stdout",
     "output_type": "stream",
     "text": [
      "+-------+-------+--------+-----------+-------------+----------+----------+------------+------------+-----------+-----------+-----------+-----------+---------+------------+\n",
      "|MinTemp|MaxTemp|Rainfall|WindGustDir|WindGustSpeed|WindDir9am|WindDir3pm|WindSpeed9am|WindSpeed3pm|Humidity9am|Humidity3pm|Pressure9am|Pressure3pm|RainToday|RainTomorrow|\n",
      "+-------+-------+--------+-----------+-------------+----------+----------+------------+------------+-----------+-----------+-----------+-----------+---------+------------+\n",
      "|   13.4|   22.9|     0.6|          W|           44|         W|       WNW|          20|          24|         71|         22|     1007.7|     1007.1|       No|          No|\n",
      "|    7.4|   25.1|       0|        WNW|           44|       NNW|       WSW|           4|          22|         44|         25|     1010.6|     1007.8|       No|          No|\n",
      "|   12.9|   25.7|       0|        WSW|           46|         W|       WSW|          19|          26|         38|         30|     1007.6|     1008.7|       No|          No|\n",
      "+-------+-------+--------+-----------+-------------+----------+----------+------------+------------+-----------+-----------+-----------+-----------+---------+------------+\n",
      "only showing top 3 rows\n",
      "\n"
     ]
    }
   ],
   "source": [
    "#dropping less important columns\n",
    "weather_df=weather_df.drop('Date','Location','Evaporation','Sunshine','Cloud9am','Cloud3pm','Temp9am','Temp3pm')\n",
    "weather_df.show(3)"
   ]
  },
  {
   "cell_type": "code",
   "execution_count": 7,
   "metadata": {},
   "outputs": [
    {
     "name": "stdout",
     "output_type": "stream",
     "text": [
      "root\n",
      " |-- MinTemp: string (nullable = true)\n",
      " |-- MaxTemp: string (nullable = true)\n",
      " |-- Rainfall: string (nullable = true)\n",
      " |-- WindGustDir: string (nullable = true)\n",
      " |-- WindGustSpeed: string (nullable = true)\n",
      " |-- WindDir9am: string (nullable = true)\n",
      " |-- WindDir3pm: string (nullable = true)\n",
      " |-- WindSpeed9am: string (nullable = true)\n",
      " |-- WindSpeed3pm: string (nullable = true)\n",
      " |-- Humidity9am: string (nullable = true)\n",
      " |-- Humidity3pm: string (nullable = true)\n",
      " |-- Pressure9am: string (nullable = true)\n",
      " |-- Pressure3pm: string (nullable = true)\n",
      " |-- RainToday: string (nullable = true)\n",
      " |-- RainTomorrow: string (nullable = true)\n",
      "\n"
     ]
    }
   ],
   "source": [
    "#checking the schema of the dataset to see if the columns have been dropped\n",
    "weather_df.printSchema()"
   ]
  },
  {
   "cell_type": "markdown",
   "metadata": {},
   "source": [
    "### Step 04 Displaying the count of missing values in each column"
   ]
  },
  {
   "cell_type": "markdown",
   "metadata": {},
   "source": [
    "Here, we simply create a list comprehension where we iterate over each column to find the number of missing values denoted by 'NA'. We display their counts using count() function."
   ]
  },
  {
   "cell_type": "code",
   "execution_count": 8,
   "metadata": {},
   "outputs": [
    {
     "name": "stdout",
     "output_type": "stream",
     "text": [
      "+-------+-------+--------+-----------+-------------+----------+----------+------------+------------+-----------+-----------+-----------+-----------+---------+------------+\n",
      "|MinTemp|MaxTemp|Rainfall|WindGustDir|WindGustSpeed|WindDir9am|WindDir3pm|WindSpeed9am|WindSpeed3pm|Humidity9am|Humidity3pm|Pressure9am|Pressure3pm|RainToday|RainTomorrow|\n",
      "+-------+-------+--------+-----------+-------------+----------+----------+------------+------------+-----------+-----------+-----------+-----------+---------+------------+\n",
      "|    637|    322|    1406|       9330|         9270|     10013|      3778|        1348|        2630|       1774|       3610|      14014|      13981|     1406|           0|\n",
      "+-------+-------+--------+-----------+-------------+----------+----------+------------+------------+-----------+-----------+-----------+-----------+---------+------------+\n",
      "\n"
     ]
    }
   ],
   "source": [
    "#list comprehension to count missing values in each column\n",
    "#tabular format representation\n",
    "weather_df_missing_freq = weather_df.select([f.count(f.when(f.col(i).contains('NA'), i)).alias(i) for i in weather_df.columns])\n",
    "\n",
    "weather_df_missing_freq.show()"
   ]
  },
  {
   "cell_type": "markdown",
   "metadata": {},
   "source": [
    "### Step 05 Missing value Imputation"
   ]
  },
  {
   "cell_type": "markdown",
   "metadata": {},
   "source": [
    "At the start, we replace all the 'NA' values with Null so that it will help us simplify the imputation process further."
   ]
  },
  {
   "cell_type": "code",
   "execution_count": 9,
   "metadata": {},
   "outputs": [
    {
     "name": "stdout",
     "output_type": "stream",
     "text": [
      "+-------+-------+--------+-----------+-------------+----------+----------+------------+------------+-----------+-----------+-----------+-----------+---------+------------+\n",
      "|MinTemp|MaxTemp|Rainfall|WindGustDir|WindGustSpeed|WindDir9am|WindDir3pm|WindSpeed9am|WindSpeed3pm|Humidity9am|Humidity3pm|Pressure9am|Pressure3pm|RainToday|RainTomorrow|\n",
      "+-------+-------+--------+-----------+-------------+----------+----------+------------+------------+-----------+-----------+-----------+-----------+---------+------------+\n",
      "|   13.4|   22.9|     0.6|          W|           44|         W|       WNW|          20|          24|         71|         22|     1007.7|     1007.1|       No|          No|\n",
      "|    7.4|   25.1|       0|        WNW|           44|       NNW|       WSW|           4|          22|         44|         25|     1010.6|     1007.8|       No|          No|\n",
      "|   12.9|   25.7|       0|        WSW|           46|         W|       WSW|          19|          26|         38|         30|     1007.6|     1008.7|       No|          No|\n",
      "|    9.2|     28|       0|         NE|           24|        SE|         E|          11|           9|         45|         16|     1017.6|     1012.8|       No|          No|\n",
      "|   17.5|   32.3|       1|          W|           41|       ENE|        NW|           7|          20|         82|         33|     1010.8|       1006|       No|          No|\n",
      "|   14.6|   29.7|     0.2|        WNW|           56|         W|         W|          19|          24|         55|         23|     1009.2|     1005.4|       No|          No|\n",
      "|   14.3|     25|       0|          W|           50|        SW|         W|          20|          24|         49|         19|     1009.6|     1008.2|       No|          No|\n",
      "|    7.7|   26.7|       0|          W|           35|       SSE|         W|           6|          17|         48|         19|     1013.4|     1010.1|       No|          No|\n",
      "|    9.7|   31.9|       0|        NNW|           80|        SE|        NW|           7|          28|         42|          9|     1008.9|     1003.6|       No|         Yes|\n",
      "|   13.1|   30.1|     1.4|          W|           28|         S|       SSE|          15|          11|         58|         27|       1007|     1005.7|      Yes|          No|\n",
      "|   13.4|   30.4|       0|          N|           30|       SSE|       ESE|          17|           6|         48|         22|     1011.8|     1008.7|       No|         Yes|\n",
      "|   15.9|   21.7|     2.2|        NNE|           31|        NE|       ENE|          15|          13|         89|         91|     1010.5|     1004.2|      Yes|         Yes|\n",
      "|   15.9|   18.6|    15.6|          W|           61|       NNW|       NNW|          28|          28|         76|         93|      994.3|        993|      Yes|         Yes|\n",
      "|   12.6|     21|     3.6|         SW|           44|         W|       SSW|          24|          20|         65|         43|     1001.2|     1001.8|      Yes|          No|\n",
      "|    9.8|   27.7|    null|        WNW|           50|      null|       WNW|        null|          22|         50|         28|     1013.4|     1010.3|     null|          No|\n",
      "|   14.1|   20.9|       0|        ENE|           22|       SSW|         E|          11|           9|         69|         82|     1012.2|     1010.4|       No|         Yes|\n",
      "|   13.5|   22.9|    16.8|          W|           63|         N|       WNW|           6|          20|         80|         65|     1005.8|     1002.2|      Yes|         Yes|\n",
      "|   11.2|   22.5|    10.6|        SSE|           43|       WSW|        SW|          24|          17|         47|         32|     1009.4|     1009.7|      Yes|          No|\n",
      "|    9.8|   25.6|       0|        SSE|           26|        SE|       NNW|          17|           6|         45|         26|     1019.2|     1017.1|       No|          No|\n",
      "|   11.5|   29.3|       0|          S|           24|        SE|        SE|           9|           9|         56|         28|     1019.3|     1014.8|       No|          No|\n",
      "|   17.1|     33|       0|         NE|           43|        NE|         N|          17|          22|         38|         28|     1013.6|     1008.1|       No|          No|\n",
      "|   20.5|   31.8|       0|        WNW|           41|         W|         W|          19|          20|         54|         24|     1007.8|     1005.7|       No|          No|\n",
      "|   15.3|   30.9|       0|          N|           33|       ESE|        NW|           6|          13|         55|         23|       1011|     1008.2|       No|          No|\n",
      "|   12.6|   32.4|       0|          W|           43|         E|         W|           4|          19|         49|         17|     1012.9|     1010.1|       No|          No|\n",
      "|   16.2|   33.9|       0|        WSW|           35|        SE|       WSW|           9|          13|         45|         19|     1010.9|     1007.6|       No|          No|\n",
      "|   16.9|     33|       0|        WSW|           57|      null|         W|           0|          26|         41|         28|     1006.8|     1003.6|       No|          No|\n",
      "|   20.1|   32.7|       0|        WNW|           48|         N|       WNW|          13|          30|         56|         15|     1005.2|     1001.7|       No|          No|\n",
      "|   19.7|   27.2|       0|        WNW|           46|        NW|       WSW|          19|          30|         49|         22|     1004.8|     1004.2|       No|         Yes|\n",
      "|   12.5|   24.2|     1.2|        WNW|           50|       WSW|        SW|          11|          22|         78|         70|     1005.6|     1003.4|      Yes|          No|\n",
      "|     12|   24.4|     0.8|          W|           39|       WNW|       WNW|          17|          17|         48|         28|     1006.1|     1005.1|       No|          No|\n",
      "|   11.3|   26.5|       0|        WNW|           56|         W|       WNW|          19|          31|         46|         26|     1004.5|     1003.2|       No|          No|\n",
      "|    9.6|   23.9|       0|          W|           41|       WSW|       SSW|          19|          11|         44|         22|     1014.4|     1013.1|       No|          No|\n",
      "|   10.5|   28.8|       0|        SSE|           26|       SSE|         E|          11|           7|         43|         22|     1018.7|     1014.8|       No|          No|\n",
      "|   12.3|   34.6|       0|        WNW|           37|       SSE|        NW|           6|          17|         41|         12|     1015.1|     1010.3|       No|          No|\n",
      "|   12.9|   35.8|       0|        WNW|           41|       ENE|        NW|           6|          26|         41|          9|     1012.6|     1009.2|       No|          No|\n",
      "|   13.7|   37.9|       0|          W|           52|        SE|       WNW|           4|          26|         33|          8|     1010.9|     1006.7|       No|          No|\n",
      "|   16.1|   38.9|       0|          W|           57|         E|         W|           6|          30|         34|         12|       1007|     1002.7|       No|          No|\n",
      "|     14|   28.3|       0|          W|           48|         W|       WSW|          17|          24|         43|         15|     1011.9|     1010.9|       No|          No|\n",
      "|   12.5|   28.4|       0|         NE|           37|       SSE|         S|          20|           9|         38|         16|     1017.8|     1013.7|       No|          No|\n",
      "|     17|   30.8|       0|         NE|           37|       NNE|         E|          15|          11|         36|         24|     1013.4|     1008.1|       No|          No|\n",
      "|   16.9|     32|       0|          S|           31|       SSE|         N|          13|          17|         52|         31|     1009.9|     1006.8|       No|          No|\n",
      "|   17.3|   34.7|       0|         SW|           35|        SE|       WSW|           7|          15|         48|         16|     1014.1|     1012.1|       No|          No|\n",
      "|   17.2|   37.7|       0|        NNW|           35|        SE|        NW|           7|          17|         51|         19|     1015.7|     1010.9|       No|          No|\n",
      "|   17.4|     43|       0|         NW|           39|       SSE|       SSW|           7|          17|         40|          8|     1011.6|     1006.9|       No|          No|\n",
      "|   19.8|   32.7|       0|        WNW|           44|         W|         W|          20|          28|         34|         28|     1008.4|     1009.2|       No|          No|\n",
      "|   14.9|   26.7|       0|         SW|           56|       WSW|        SW|          20|          31|         46|         20|     1014.1|     1012.7|       No|          No|\n",
      "|   10.5|   28.4|       0|         SE|           33|        SE|        SW|          19|          11|         35|         16|     1019.7|     1017.4|       No|          No|\n",
      "|   11.3|   32.2|       0|        WNW|           28|       ENE|       SSW|          17|          15|         34|         17|     1019.7|     1016.2|       No|          No|\n",
      "|   13.9|   36.6|       0|        WNW|           39|       SSE|       NNE|           2|          15|         39|         10|     1015.8|     1010.6|       No|          No|\n",
      "|   18.6|   39.9|       0|        NNW|           61|       SSE|       WNW|           9|          20|         36|         21|     1010.1|     1004.8|       No|          No|\n",
      "+-------+-------+--------+-----------+-------------+----------+----------+------------+------------+-----------+-----------+-----------+-----------+---------+------------+\n",
      "only showing top 50 rows\n",
      "\n"
     ]
    }
   ],
   "source": [
    "#replacing all the NA values by None (identified as null)\n",
    "weather_df=weather_df.replace('NA',None)\n",
    "weather_df.show(50)"
   ]
  },
  {
   "cell_type": "markdown",
   "metadata": {},
   "source": [
    "By visually analysing the top few rows, we can see that all the 'NA' values in the dataframe has been successfully replaced by null."
   ]
  },
  {
   "cell_type": "markdown",
   "metadata": {},
   "source": [
    "Now, we fill the missing data with average value for numeric columns and maximum frequency value for non-numeric columns.\n",
    "\n",
    "But, all the columns are bydefault in String format. So, first we identify which columns takes on numerical values and cast them to numeric types such as Double.\n",
    "\n",
    "By visual analysis of the data, we can see that columns such as MinTemp, MaxTemp, Rainfall, WindGustSpeed, WindSpeed9am, WindSpeed3pm, Humidity9am, Humidity3pm, Pressure9am and Pressure3pm hold numerical values. So, we cast/convert those columns to Double."
   ]
  },
  {
   "cell_type": "code",
   "execution_count": 10,
   "metadata": {},
   "outputs": [],
   "source": [
    "#casting the columns that hold numerical values to Double\n",
    "weather_df=weather_df.withColumn(\"MinTemp\", weather_df[\"MinTemp\"].cast(DoubleType())) \\\n",
    "       .withColumn(\"MaxTemp\", weather_df[\"MaxTemp\"].cast(DoubleType())) \\\n",
    "       .withColumn(\"Rainfall\", weather_df[\"Rainfall\"].cast(DoubleType())) \\\n",
    "       .withColumn(\"WindGustSpeed\", weather_df[\"WindGustSpeed\"].cast(DoubleType())) \\\n",
    "       .withColumn(\"WindSpeed9am\", weather_df[\"WindSpeed9am\"].cast(DoubleType())) \\\n",
    "       .withColumn(\"WindSpeed3pm\", weather_df[\"WindSpeed3pm\"].cast(DoubleType())) \\\n",
    "       .withColumn(\"Humidity9am\", weather_df[\"Humidity9am\"].cast(DoubleType())) \\\n",
    "       .withColumn(\"Humidity3pm\", weather_df[\"Humidity3pm\"].cast(DoubleType())) \\\n",
    "       .withColumn(\"Pressure9am\", weather_df[\"Pressure9am\"].cast(DoubleType())) \\\n",
    "       .withColumn(\"Pressure3pm\", weather_df[\"Pressure3pm\"].cast(DoubleType())) "
   ]
  },
  {
   "cell_type": "code",
   "execution_count": 11,
   "metadata": {},
   "outputs": [
    {
     "name": "stdout",
     "output_type": "stream",
     "text": [
      "root\n",
      " |-- MinTemp: double (nullable = true)\n",
      " |-- MaxTemp: double (nullable = true)\n",
      " |-- Rainfall: double (nullable = true)\n",
      " |-- WindGustDir: string (nullable = true)\n",
      " |-- WindGustSpeed: double (nullable = true)\n",
      " |-- WindDir9am: string (nullable = true)\n",
      " |-- WindDir3pm: string (nullable = true)\n",
      " |-- WindSpeed9am: double (nullable = true)\n",
      " |-- WindSpeed3pm: double (nullable = true)\n",
      " |-- Humidity9am: double (nullable = true)\n",
      " |-- Humidity3pm: double (nullable = true)\n",
      " |-- Pressure9am: double (nullable = true)\n",
      " |-- Pressure3pm: double (nullable = true)\n",
      " |-- RainToday: string (nullable = true)\n",
      " |-- RainTomorrow: string (nullable = true)\n",
      "\n"
     ]
    }
   ],
   "source": [
    "weather_df.printSchema()"
   ]
  },
  {
   "cell_type": "markdown",
   "metadata": {},
   "source": [
    "From the above output, we can see that the columns that were listed above are converted to Double."
   ]
  },
  {
   "cell_type": "markdown",
   "metadata": {},
   "source": [
    "Since, those columns are converted to numeric type such as Double, we start with the imputation process. We drop the null values from the dataframe using dropna() function and store the updated data in a new dataframe weather_df_no_na . "
   ]
  },
  {
   "cell_type": "code",
   "execution_count": 12,
   "metadata": {},
   "outputs": [],
   "source": [
    "#dropping all the nulls\n",
    "weather_df_no_na=weather_df.dropna()"
   ]
  },
  {
   "cell_type": "code",
   "execution_count": 13,
   "metadata": {},
   "outputs": [
    {
     "data": {
      "text/plain": [
       "112925"
      ]
     },
     "execution_count": 13,
     "metadata": {},
     "output_type": "execute_result"
    }
   ],
   "source": [
    "weather_df_no_na.count()"
   ]
  },
  {
   "cell_type": "markdown",
   "metadata": {},
   "source": [
    "The missing values still exist in the older dataframe weather_df which we need to impute. So, we select those numeric columns which has the missing values and take the average value of those column observations existing in the new dataframe weather_df_no_na. We further use that value to impute the missing values in the old dataframe weather_df. "
   ]
  },
  {
   "cell_type": "code",
   "execution_count": 14,
   "metadata": {},
   "outputs": [
    {
     "name": "stdout",
     "output_type": "stream",
     "text": [
      "+-------+-------+--------+-------------+------------+------------+-----------+-----------+-----------+-----------+\n",
      "|MinTemp|MaxTemp|Rainfall|WindGustSpeed|WindSpeed9am|WindSpeed3pm|Humidity9am|Humidity3pm|Pressure9am|Pressure3pm|\n",
      "+-------+-------+--------+-------------+------------+------------+-----------+-----------+-----------+-----------+\n",
      "|   13.4|   22.9|     0.6|         44.0|        20.0|        24.0|       71.0|       22.0|     1007.7|     1007.1|\n",
      "|    7.4|   25.1|     0.0|         44.0|         4.0|        22.0|       44.0|       25.0|     1010.6|     1007.8|\n",
      "|   12.9|   25.7|     0.0|         46.0|        19.0|        26.0|       38.0|       30.0|     1007.6|     1008.7|\n",
      "+-------+-------+--------+-------------+------------+------------+-----------+-----------+-----------+-----------+\n",
      "only showing top 3 rows\n",
      "\n"
     ]
    }
   ],
   "source": [
    "#selecting numerical columns and creating a dataframe\n",
    "impute_na_df1=weather_df.select('MinTemp' \\\n",
    "        ,'MaxTemp','Rainfall','WindGustSpeed','WindSpeed9am','WindSpeed3pm' \\\n",
    "        ,'Humidity9am','Humidity3pm','Pressure9am','Pressure3pm')\n",
    "impute_na_df1.show(3)"
   ]
  },
  {
   "cell_type": "code",
   "execution_count": 15,
   "metadata": {
    "scrolled": true
   },
   "outputs": [
    {
     "name": "stdout",
     "output_type": "stream",
     "text": [
      "MinTemp 12.66\n",
      "MaxTemp 23.66\n",
      "Rainfall 2.38\n",
      "WindGustSpeed 40.79\n",
      "WindSpeed9am 15.18\n",
      "WindSpeed3pm 19.5\n",
      "Humidity9am 67.4\n",
      "Humidity3pm 50.67\n",
      "Pressure9am 1017.43\n",
      "Pressure3pm 1015.05\n"
     ]
    }
   ],
   "source": [
    "#missing value imputation method for numerical columns also known as Mean Imputation\n",
    "for x in impute_na_df1.columns:\n",
    "    meanValue=round(weather_df_no_na.agg(avg(x)).first()[0],2)\n",
    "    print(x,meanValue)\n",
    "    impute_na_df1=impute_na_df1.na.fill(meanValue,(x))"
   ]
  },
  {
   "cell_type": "code",
   "execution_count": 16,
   "metadata": {},
   "outputs": [
    {
     "name": "stdout",
     "output_type": "stream",
     "text": [
      "+-------+-------+--------+-------------+------------+------------+-----------+-----------+-----------+-----------+\n",
      "|MinTemp|MaxTemp|Rainfall|WindGustSpeed|WindSpeed9am|WindSpeed3pm|Humidity9am|Humidity3pm|Pressure9am|Pressure3pm|\n",
      "+-------+-------+--------+-------------+------------+------------+-----------+-----------+-----------+-----------+\n",
      "|   13.4|   22.9|     0.6|         44.0|        20.0|        24.0|       71.0|       22.0|     1007.7|     1007.1|\n",
      "|    7.4|   25.1|     0.0|         44.0|         4.0|        22.0|       44.0|       25.0|     1010.6|     1007.8|\n",
      "|   12.9|   25.7|     0.0|         46.0|        19.0|        26.0|       38.0|       30.0|     1007.6|     1008.7|\n",
      "+-------+-------+--------+-------------+------------+------------+-----------+-----------+-----------+-----------+\n",
      "only showing top 3 rows\n",
      "\n"
     ]
    }
   ],
   "source": [
    "impute_na_df1.show(3)"
   ]
  },
  {
   "cell_type": "markdown",
   "metadata": {},
   "source": [
    "Now, we drop the numeric columns with missing values from the old dataframe weather_df and add the same numeric columns from the imputed dataframe impute_na_df1."
   ]
  },
  {
   "cell_type": "code",
   "execution_count": 17,
   "metadata": {},
   "outputs": [
    {
     "name": "stdout",
     "output_type": "stream",
     "text": [
      "root\n",
      " |-- WindGustDir: string (nullable = true)\n",
      " |-- WindDir9am: string (nullable = true)\n",
      " |-- WindDir3pm: string (nullable = true)\n",
      " |-- RainToday: string (nullable = true)\n",
      " |-- RainTomorrow: string (nullable = true)\n",
      "\n"
     ]
    }
   ],
   "source": [
    "#dropping the columns with NA values in older dataframe weather_df\n",
    "weather_df=weather_df.drop('MinTemp','MaxTemp','Rainfall','Evaporation','Sunshine','WindGustSpeed','WindSpeed9am','WindSpeed3pm','Humidity9am','Humidity3pm','Pressure9am','Pressure3pm','Cloud9am','Cloud3pm','Temp9am','Temp3pm')\n",
    "weather_df.printSchema()"
   ]
  },
  {
   "cell_type": "markdown",
   "metadata": {},
   "source": [
    "We merge the imputed dataframe impute_na_df1 with the older dataframe weather_df on the basis of common column to maintain the latest updated values. "
   ]
  },
  {
   "cell_type": "code",
   "execution_count": 18,
   "metadata": {},
   "outputs": [],
   "source": [
    "#creating common column in both the dataframes for the merging process\n",
    "df1=weather_df.withColumn('row_index', f.monotonically_increasing_id())\n",
    "df2=impute_na_df1.withColumn('row_index', f.monotonically_increasing_id())"
   ]
  },
  {
   "cell_type": "code",
   "execution_count": 19,
   "metadata": {
    "scrolled": true
   },
   "outputs": [
    {
     "name": "stdout",
     "output_type": "stream",
     "text": [
      "+-----------+----------+----------+---------+------------+---------+\n",
      "|WindGustDir|WindDir9am|WindDir3pm|RainToday|RainTomorrow|row_index|\n",
      "+-----------+----------+----------+---------+------------+---------+\n",
      "|          W|         W|       WNW|       No|          No|        0|\n",
      "|        WNW|       NNW|       WSW|       No|          No|        1|\n",
      "|        WSW|         W|       WSW|       No|          No|        2|\n",
      "+-----------+----------+----------+---------+------------+---------+\n",
      "only showing top 3 rows\n",
      "\n"
     ]
    }
   ],
   "source": [
    "df1.show(3)"
   ]
  },
  {
   "cell_type": "code",
   "execution_count": 20,
   "metadata": {},
   "outputs": [
    {
     "name": "stdout",
     "output_type": "stream",
     "text": [
      "+-------+-------+--------+-------------+------------+------------+-----------+-----------+-----------+-----------+---------+\n",
      "|MinTemp|MaxTemp|Rainfall|WindGustSpeed|WindSpeed9am|WindSpeed3pm|Humidity9am|Humidity3pm|Pressure9am|Pressure3pm|row_index|\n",
      "+-------+-------+--------+-------------+------------+------------+-----------+-----------+-----------+-----------+---------+\n",
      "|   13.4|   22.9|     0.6|         44.0|        20.0|        24.0|       71.0|       22.0|     1007.7|     1007.1|        0|\n",
      "|    7.4|   25.1|     0.0|         44.0|         4.0|        22.0|       44.0|       25.0|     1010.6|     1007.8|        1|\n",
      "|   12.9|   25.7|     0.0|         46.0|        19.0|        26.0|       38.0|       30.0|     1007.6|     1008.7|        2|\n",
      "+-------+-------+--------+-------------+------------+------------+-----------+-----------+-----------+-----------+---------+\n",
      "only showing top 3 rows\n",
      "\n"
     ]
    }
   ],
   "source": [
    "df2.show(3)"
   ]
  },
  {
   "cell_type": "code",
   "execution_count": 21,
   "metadata": {},
   "outputs": [
    {
     "name": "stdout",
     "output_type": "stream",
     "text": [
      "root\n",
      " |-- WindGustDir: string (nullable = true)\n",
      " |-- WindDir9am: string (nullable = true)\n",
      " |-- WindDir3pm: string (nullable = true)\n",
      " |-- RainToday: string (nullable = true)\n",
      " |-- RainTomorrow: string (nullable = true)\n",
      "\n"
     ]
    }
   ],
   "source": [
    "weather_df.printSchema()"
   ]
  },
  {
   "cell_type": "code",
   "execution_count": 22,
   "metadata": {
    "scrolled": true
   },
   "outputs": [
    {
     "name": "stdout",
     "output_type": "stream",
     "text": [
      "+-----------+----------+----------+---------+------------+-------+-------+--------+-------------+------------+------------+-----------+-----------+-----------+-----------+\n",
      "|WindGustDir|WindDir9am|WindDir3pm|RainToday|RainTomorrow|MinTemp|MaxTemp|Rainfall|WindGustSpeed|WindSpeed9am|WindSpeed3pm|Humidity9am|Humidity3pm|Pressure9am|Pressure3pm|\n",
      "+-----------+----------+----------+---------+------------+-------+-------+--------+-------------+------------+------------+-----------+-----------+-----------+-----------+\n",
      "|          W|         W|       WNW|       No|          No|   13.4|   22.9|     0.6|         44.0|        20.0|        24.0|       71.0|       22.0|     1007.7|     1007.1|\n",
      "|        WNW|       NNW|       WSW|       No|          No|    7.4|   25.1|     0.0|         44.0|         4.0|        22.0|       44.0|       25.0|     1010.6|     1007.8|\n",
      "|        WSW|         W|       WSW|       No|          No|   12.9|   25.7|     0.0|         46.0|        19.0|        26.0|       38.0|       30.0|     1007.6|     1008.7|\n",
      "+-----------+----------+----------+---------+------------+-------+-------+--------+-------------+------------+------------+-----------+-----------+-----------+-----------+\n",
      "only showing top 3 rows\n",
      "\n"
     ]
    }
   ],
   "source": [
    "#merging the imputed dataframe with older dataframe on common generated column ID\n",
    "weather_df=df1.join(df2, df1.row_index==df2.row_index).drop('row_index')\n",
    "weather_df.show(3)"
   ]
  },
  {
   "cell_type": "code",
   "execution_count": 23,
   "metadata": {},
   "outputs": [
    {
     "name": "stdout",
     "output_type": "stream",
     "text": [
      "+-----------+----------+----------+---------+------------+-------+-------+--------+-------------+------------+------------+-----------+-----------+-----------+-----------+\n",
      "|WindGustDir|WindDir9am|WindDir3pm|RainToday|RainTomorrow|MinTemp|MaxTemp|Rainfall|WindGustSpeed|WindSpeed9am|WindSpeed3pm|Humidity9am|Humidity3pm|Pressure9am|Pressure3pm|\n",
      "+-----------+----------+----------+---------+------------+-------+-------+--------+-------------+------------+------------+-----------+-----------+-----------+-----------+\n",
      "|       9330|     10013|      3778|     1406|           0|      0|      0|       0|            0|           0|           0|          0|          0|          0|          0|\n",
      "+-----------+----------+----------+---------+------------+-------+-------+--------+-------------+------------+------------+-----------+-----------+-----------+-----------+\n",
      "\n"
     ]
    }
   ],
   "source": [
    "#checking if the missing values have been properly imputed for numeric columns\n",
    "weather_df.select([count(when(col(c).isNull(), c)).alias(c) for c in weather_df.columns]).show()"
   ]
  },
  {
   "cell_type": "markdown",
   "metadata": {},
   "source": [
    "From the above output, we can confirm that the missing values have been properly imputed for the numeric columns. We follow the exact same approach for imputing missing values in non-numeric columns. The only key thing is we replace the missing values in a non-numeric column with the most frequent value in that particular column"
   ]
  },
  {
   "cell_type": "markdown",
   "metadata": {},
   "source": [
    "We start by selecting the non-numeric columns containing missing values and storing it in a dataframe impute_na_df2"
   ]
  },
  {
   "cell_type": "code",
   "execution_count": 24,
   "metadata": {},
   "outputs": [
    {
     "name": "stdout",
     "output_type": "stream",
     "text": [
      "+-----------+----------+----------+---------+\n",
      "|WindGustDir|WindDir9am|WindDir3pm|RainToday|\n",
      "+-----------+----------+----------+---------+\n",
      "|          W|         W|       WNW|       No|\n",
      "|        WNW|       NNW|       WSW|       No|\n",
      "|        WSW|         W|       WSW|       No|\n",
      "+-----------+----------+----------+---------+\n",
      "only showing top 3 rows\n",
      "\n"
     ]
    }
   ],
   "source": [
    "#selecting non-numerical columns and creating a dataframe\n",
    "impute_na_df2=weather_df.select('WindGustDir','WindDir9am','WindDir3pm','RainToday')\n",
    "impute_na_df2.show(3)"
   ]
  },
  {
   "cell_type": "markdown",
   "metadata": {},
   "source": [
    "Then, we perform groupby() operation on each of those columns iteratively to get the frequency of observations. We sort the frequency values in descending order and take the top most value as the maximum frequency of occurence for that observation. Thus, we take that observation to impute the null values."
   ]
  },
  {
   "cell_type": "code",
   "execution_count": 25,
   "metadata": {},
   "outputs": [
    {
     "name": "stdout",
     "output_type": "stream",
     "text": [
      "WindGustDir W\n",
      "WindDir9am N\n",
      "WindDir3pm SE\n",
      "RainToday No\n"
     ]
    }
   ],
   "source": [
    "#missing value imputation method for non-numerical column - Mode Imputation\n",
    "for x in impute_na_df2.columns:\n",
    "    most_freq_value=impute_na_df2.groupBy(x).count().sort('count', ascending=False).first()[0]\n",
    "    print(x, most_freq_value)\n",
    "    impute_na_df2=impute_na_df2.na.fill(most_freq_value, x)"
   ]
  },
  {
   "cell_type": "code",
   "execution_count": 26,
   "metadata": {},
   "outputs": [
    {
     "name": "stdout",
     "output_type": "stream",
     "text": [
      "root\n",
      " |-- RainTomorrow: string (nullable = true)\n",
      " |-- MinTemp: double (nullable = false)\n",
      " |-- MaxTemp: double (nullable = false)\n",
      " |-- Rainfall: double (nullable = false)\n",
      " |-- WindGustSpeed: double (nullable = false)\n",
      " |-- WindSpeed9am: double (nullable = false)\n",
      " |-- WindSpeed3pm: double (nullable = false)\n",
      " |-- Humidity9am: double (nullable = false)\n",
      " |-- Humidity3pm: double (nullable = false)\n",
      " |-- Pressure9am: double (nullable = false)\n",
      " |-- Pressure3pm: double (nullable = false)\n",
      "\n"
     ]
    }
   ],
   "source": [
    "#dropping the columns from the old dataframe that has missing values\n",
    "weather_df=weather_df.drop('WindGustDir','WindDir9am','WindDir3pm','RainToday')\n",
    "weather_df.printSchema()"
   ]
  },
  {
   "cell_type": "code",
   "execution_count": 27,
   "metadata": {},
   "outputs": [
    {
     "name": "stdout",
     "output_type": "stream",
     "text": [
      "+------------+-------+-------+--------+-------------+------------+------------+-----------+-----------+-----------+-----------+-----------+----------+----------+---------+\n",
      "|RainTomorrow|MinTemp|MaxTemp|Rainfall|WindGustSpeed|WindSpeed9am|WindSpeed3pm|Humidity9am|Humidity3pm|Pressure9am|Pressure3pm|WindGustDir|WindDir9am|WindDir3pm|RainToday|\n",
      "+------------+-------+-------+--------+-------------+------------+------------+-----------+-----------+-----------+-----------+-----------+----------+----------+---------+\n",
      "|          No|   20.1|   32.7|     0.0|         48.0|        13.0|        30.0|       56.0|       15.0|     1005.2|     1001.7|        WNW|         N|       WNW|       No|\n",
      "|          No|   12.0|   24.4|     0.8|         39.0|        17.0|        17.0|       48.0|       28.0|     1006.1|     1005.1|          W|       WNW|       WNW|       No|\n",
      "|         Yes|   17.2|   28.7|     0.0|         39.0|         4.0|        13.0|       79.0|       41.0|     1016.4|     1011.8|          W|       ENE|         N|       No|\n",
      "+------------+-------+-------+--------+-------------+------------+------------+-----------+-----------+-----------+-----------+-----------+----------+----------+---------+\n",
      "only showing top 3 rows\n",
      "\n"
     ]
    }
   ],
   "source": [
    "#creating common column in both the dataframes for the merging process.\n",
    "df1=weather_df.withColumn('row_index', f.monotonically_increasing_id())\n",
    "df2=impute_na_df2.withColumn('row_index', f.monotonically_increasing_id())\n",
    "\n",
    "weather_df= df1.join(df2, df1.row_index==df2.row_index).drop(\"row_index\")\n",
    "weather_df.show(3)"
   ]
  },
  {
   "cell_type": "code",
   "execution_count": 28,
   "metadata": {},
   "outputs": [
    {
     "name": "stdout",
     "output_type": "stream",
     "text": [
      "+------------+-------+-------+--------+-------------+------------+------------+-----------+-----------+-----------+-----------+-----------+----------+----------+---------+\n",
      "|RainTomorrow|MinTemp|MaxTemp|Rainfall|WindGustSpeed|WindSpeed9am|WindSpeed3pm|Humidity9am|Humidity3pm|Pressure9am|Pressure3pm|WindGustDir|WindDir9am|WindDir3pm|RainToday|\n",
      "+------------+-------+-------+--------+-------------+------------+------------+-----------+-----------+-----------+-----------+-----------+----------+----------+---------+\n",
      "|           0|      0|      0|       0|            0|           0|           0|          0|          0|          0|          0|          0|         0|         0|        0|\n",
      "+------------+-------+-------+--------+-------------+------------+------------+-----------+-----------+-----------+-----------+-----------+----------+----------+---------+\n",
      "\n"
     ]
    }
   ],
   "source": [
    "#checking if the missing values have been imputed for non-numeric columns\n",
    "weather_df.select([count(when(col(c).isNull(), c)).alias(c) for c in weather_df.columns]).show()"
   ]
  },
  {
   "cell_type": "markdown",
   "metadata": {},
   "source": [
    "Thus, we can see that all non-numeric columns with missing values has been imputed successfully. Thus, the imputation is complete."
   ]
  },
  {
   "cell_type": "markdown",
   "metadata": {},
   "source": [
    "### Step 06 Data Transformation"
   ]
  },
  {
   "cell_type": "markdown",
   "metadata": {},
   "source": [
    "In this step, we transform the non-numeric columns to numerical columns so that the machine learning algorithm can process it. We do this transformation by using StringIndexer() method to convert them to numbers. In the StringIndexer() method, we specify the input columns to transform and the output columns where we get the transformed data."
   ]
  },
  {
   "cell_type": "code",
   "execution_count": 29,
   "metadata": {},
   "outputs": [
    {
     "name": "stdout",
     "output_type": "stream",
     "text": [
      "+------------+-------+-------+--------+-------------+------------+------------+-----------+-----------+-----------+-----------+-----------+----------+----------+---------+---------------+--------------+--------------+-------------+-----+\n",
      "|RainTomorrow|MinTemp|MaxTemp|Rainfall|WindGustSpeed|WindSpeed9am|WindSpeed3pm|Humidity9am|Humidity3pm|Pressure9am|Pressure3pm|WindGustDir|WindDir9am|WindDir3pm|RainToday|WindGustDir-Ind|WindDir9am-Ind|WindDir3pm-Ind|RainToday-Ind|label|\n",
      "+------------+-------+-------+--------+-------------+------------+------------+-----------+-----------+-----------+-----------+-----------+----------+----------+---------+---------------+--------------+--------------+-------------+-----+\n",
      "|          No|   20.1|   32.7|     0.0|         48.0|        13.0|        30.0|       56.0|       15.0|     1005.2|     1001.7|        WNW|         N|       WNW|       No|            9.0|           0.0|           7.0|          0.0|  0.0|\n",
      "|          No|   12.0|   24.4|     0.8|         39.0|        17.0|        17.0|       48.0|       28.0|     1006.1|     1005.1|          W|       WNW|       WNW|       No|            0.0|          14.0|           7.0|          0.0|  0.0|\n",
      "|         Yes|   17.2|   28.7|     0.0|         39.0|         4.0|        13.0|       79.0|       41.0|     1016.4|     1011.8|          W|       ENE|         N|       No|            0.0|          10.0|           6.0|          0.0|  1.0|\n",
      "+------------+-------+-------+--------+-------------+------------+------------+-----------+-----------+-----------+-----------+-----------+----------+----------+---------+---------------+--------------+--------------+-------------+-----+\n",
      "only showing top 3 rows\n",
      "\n"
     ]
    }
   ],
   "source": [
    "#encoding non-numerical columns to columns that hold numerical values\n",
    "weather_df=StringIndexer(inputCol='WindGustDir',outputCol='WindGustDir-Ind').fit(weather_df).transform(weather_df)\n",
    "weather_df=StringIndexer(inputCol='WindDir9am',outputCol='WindDir9am-Ind').fit(weather_df).transform(weather_df)\n",
    "weather_df=StringIndexer(inputCol='WindDir3pm',outputCol='WindDir3pm-Ind').fit(weather_df).transform(weather_df)\n",
    "weather_df=StringIndexer(inputCol='RainToday',outputCol='RainToday-Ind').fit(weather_df).transform(weather_df)\n",
    "weather_df=StringIndexer(inputCol='RainTomorrow',outputCol='label').fit(weather_df).transform(weather_df)\n",
    "\n",
    "\n",
    "weather_df.show(3)"
   ]
  },
  {
   "cell_type": "code",
   "execution_count": 30,
   "metadata": {},
   "outputs": [
    {
     "name": "stdout",
     "output_type": "stream",
     "text": [
      "+-------+-------+--------+-------------+------------+------------+-----------+-----------+-----------+-----------+---------------+--------------+--------------+-------------+-----+\n",
      "|MinTemp|MaxTemp|Rainfall|WindGustSpeed|WindSpeed9am|WindSpeed3pm|Humidity9am|Humidity3pm|Pressure9am|Pressure3pm|WindGustDir-Ind|WindDir9am-Ind|WindDir3pm-Ind|RainToday-Ind|label|\n",
      "+-------+-------+--------+-------------+------------+------------+-----------+-----------+-----------+-----------+---------------+--------------+--------------+-------------+-----+\n",
      "|   20.1|   32.7|     0.0|         48.0|        13.0|        30.0|       56.0|       15.0|     1005.2|     1001.7|            9.0|           0.0|           7.0|          0.0|  0.0|\n",
      "|   12.0|   24.4|     0.8|         39.0|        17.0|        17.0|       48.0|       28.0|     1006.1|     1005.1|            0.0|          14.0|           7.0|          0.0|  0.0|\n",
      "|   17.2|   28.7|     0.0|         39.0|         4.0|        13.0|       79.0|       41.0|     1016.4|     1011.8|            0.0|          10.0|           6.0|          0.0|  1.0|\n",
      "+-------+-------+--------+-------------+------------+------------+-----------+-----------+-----------+-----------+---------------+--------------+--------------+-------------+-----+\n",
      "only showing top 3 rows\n",
      "\n"
     ]
    }
   ],
   "source": [
    "#dropping original columns\n",
    "weather_df=weather_df.drop('WindGustDir','WindDir9am','WindDir3pm','RainToday','RainTomorrow')\n",
    "weather_df.show(3)"
   ]
  },
  {
   "cell_type": "markdown",
   "metadata": {},
   "source": [
    "Thus, we see that the non-numeric columns have been properly encoded with numerical values."
   ]
  },
  {
   "cell_type": "markdown",
   "metadata": {},
   "source": [
    "### Step 07 Building the feature vector and dividing the dataset"
   ]
  },
  {
   "cell_type": "markdown",
   "metadata": {},
   "source": [
    "The final stage of data preparation is to consolidate all of the predictor columns into a single column i.e. to build the feature vector.\n",
    "We do this by using VectorAssembler() method as shown below."
   ]
  },
  {
   "cell_type": "code",
   "execution_count": 31,
   "metadata": {},
   "outputs": [
    {
     "name": "stdout",
     "output_type": "stream",
     "text": [
      "+-------+-------+--------+-------------+------------+------------+-----------+-----------+-----------+-----------+---------------+--------------+--------------+-------------+-----+--------------------+\n",
      "|MinTemp|MaxTemp|Rainfall|WindGustSpeed|WindSpeed9am|WindSpeed3pm|Humidity9am|Humidity3pm|Pressure9am|Pressure3pm|WindGustDir-Ind|WindDir9am-Ind|WindDir3pm-Ind|RainToday-Ind|label|            features|\n",
      "+-------+-------+--------+-------------+------------+------------+-----------+-----------+-----------+-----------+---------------+--------------+--------------+-------------+-----+--------------------+\n",
      "|   20.1|   32.7|     0.0|         48.0|        13.0|        30.0|       56.0|       15.0|     1005.2|     1001.7|            9.0|           0.0|           7.0|          0.0|  0.0|[20.1,32.7,0.0,48...|\n",
      "|   12.0|   24.4|     0.8|         39.0|        17.0|        17.0|       48.0|       28.0|     1006.1|     1005.1|            0.0|          14.0|           7.0|          0.0|  0.0|[12.0,24.4,0.8,39...|\n",
      "|   17.2|   28.7|     0.0|         39.0|         4.0|        13.0|       79.0|       41.0|     1016.4|     1011.8|            0.0|          10.0|           6.0|          0.0|  1.0|[17.2,28.7,0.0,39...|\n",
      "+-------+-------+--------+-------------+------------+------------+-----------+-----------+-----------+-----------+---------------+--------------+--------------+-------------+-----+--------------------+\n",
      "only showing top 3 rows\n",
      "\n"
     ]
    }
   ],
   "source": [
    "#bringing all the columns together to create a feature vector\n",
    "assembler = VectorAssembler(\n",
    "    inputCols=[\"MinTemp\", \"MaxTemp\", \"Rainfall\",'WindGustSpeed','WindSpeed9am','WindSpeed3pm','Humidity9am','Humidity3pm','Pressure9am','Pressure3pm','WindGustDir-Ind','WindDir9am-Ind','WindDir3pm-Ind','RainToday-Ind'],\n",
    "    outputCol=\"features\")\n",
    "\n",
    "weather_df = assembler.transform(weather_df)\n",
    "weather_df.show(3)"
   ]
  },
  {
   "cell_type": "markdown",
   "metadata": {},
   "source": [
    "Further, we divide the dataset into training and test set in the ratio of 70:30 using randomSplit() function. We also set a seed value for reproducable results."
   ]
  },
  {
   "cell_type": "code",
   "execution_count": 32,
   "metadata": {},
   "outputs": [
    {
     "name": "stdout",
     "output_type": "stream",
     "text": [
      "+-------+-------+--------+-------------+------------+------------+-----------+-----------+-----------+-----------+---------------+--------------+--------------+-------------+-----+--------------------+\n",
      "|MinTemp|MaxTemp|Rainfall|WindGustSpeed|WindSpeed9am|WindSpeed3pm|Humidity9am|Humidity3pm|Pressure9am|Pressure3pm|WindGustDir-Ind|WindDir9am-Ind|WindDir3pm-Ind|RainToday-Ind|label|            features|\n",
      "+-------+-------+--------+-------------+------------+------------+-----------+-----------+-----------+-----------+---------------+--------------+--------------+-------------+-----+--------------------+\n",
      "|   -4.9|    3.3|     0.2|         26.0|         6.0|        19.5|       64.0|      50.67|    1017.43|    1015.05|            8.0|           3.0|           0.0|          0.0|  0.0|[-4.9,3.3,0.2,26....|\n",
      "|   -4.9|   12.2|     0.0|         44.0|         4.0|        24.0|       67.4|       36.0|     1026.6|     1024.7|            5.0|           9.0|           2.0|          0.0|  0.0|[-4.9,12.2,0.0,44...|\n",
      "|   -2.7|   19.8|     0.0|         43.0|         2.0|        22.0|       80.0|       30.0|     1026.5|     1021.7|           14.0|           4.0|           8.0|          0.0|  0.0|[-2.7,19.8,0.0,43...|\n",
      "+-------+-------+--------+-------------+------------+------------+-----------+-----------+-----------+-----------+---------------+--------------+--------------+-------------+-----+--------------------+\n",
      "only showing top 3 rows\n",
      "\n"
     ]
    }
   ],
   "source": [
    "seed = 0  # set seed for reproducibility\n",
    "\n",
    "#dividing the data into training and test set in 70:30 ratio\n",
    "\n",
    "trainDF, testDF = weather_df.randomSplit([0.7,0.3],seed)\n",
    "trainDF.show(3)"
   ]
  },
  {
   "cell_type": "code",
   "execution_count": 33,
   "metadata": {
    "scrolled": true
   },
   "outputs": [
    {
     "name": "stdout",
     "output_type": "stream",
     "text": [
      "Number of training data:  99594\n",
      "Number of test data:  42599\n"
     ]
    }
   ],
   "source": [
    "#counting the number of observations in training and test set\n",
    "print(\"Number of training data: \", trainDF.count())\n",
    "print(\"Number of test data: \", testDF.count())"
   ]
  },
  {
   "cell_type": "markdown",
   "metadata": {},
   "source": [
    "## Part C Apply Machine Learning Algorithms\n",
    "\n",
    "### Step 8 Model Building and Visualization"
   ]
  },
  {
   "cell_type": "markdown",
   "metadata": {},
   "source": [
    "In this step, we build machine learning models such as Decision Tree Classifier, Random Forest Classifier, Logistic Regression Classifier and Gradient Boosting Classifier to predict the possibility of rainfall tomorrow. \n",
    "We fit each classifier one by one and evaluate the model using metrics such as Confusion Matrix which determines the number of missclassifications. \n",
    "We also evaluate the model accuracy and error rate on the test set."
   ]
  },
  {
   "cell_type": "markdown",
   "metadata": {},
   "source": [
    "<b> Decision Trees <b>"
   ]
  },
  {
   "cell_type": "markdown",
   "metadata": {},
   "source": [
    "Decision trees and their ensembles are popular methods for machine learning tasks of classification and regression which are widely used to interpret and handle categorical variables for a multiclass problem. The spark.ml implementation supports decision trees for binary and multiclass classification and for regression, using both continuous and categorical features. The implementation partitions data by rows, allowing distributed training with millions or even billions of instances."
   ]
  },
  {
   "cell_type": "markdown",
   "metadata": {},
   "source": [
    "First, we create a Decision Tree classifier where we specify the feature, label columns and the maximum depth of the tree. Then, we call .fit() function for the model to learn from the data."
   ]
  },
  {
   "cell_type": "code",
   "execution_count": 34,
   "metadata": {
    "scrolled": true
   },
   "outputs": [],
   "source": [
    "#creating the decision tree classifier\n",
    "tree = DecisionTreeClassifier(featuresCol = 'features', labelCol = 'label', maxDepth = 3)\n",
    "\n",
    "#fitting the model on the training set\n",
    "tree=tree.fit(trainDF) "
   ]
  },
  {
   "cell_type": "markdown",
   "metadata": {},
   "source": [
    "Further, we perform predictions on the test data and compare to known values."
   ]
  },
  {
   "cell_type": "code",
   "execution_count": 35,
   "metadata": {},
   "outputs": [],
   "source": [
    "#predicting on the test set\n",
    "prediction_dt=tree.transform(testDF)"
   ]
  },
  {
   "cell_type": "code",
   "execution_count": 36,
   "metadata": {},
   "outputs": [
    {
     "name": "stdout",
     "output_type": "stream",
     "text": [
      "+-----+----------+--------------------+\n",
      "|label|prediction|         probability|\n",
      "+-----+----------+--------------------+\n",
      "|  0.0|       0.0|[0.84932043444714...|\n",
      "|  0.0|       0.0|[0.84932043444714...|\n",
      "|  0.0|       0.0|[0.84932043444714...|\n",
      "|  0.0|       0.0|[0.84932043444714...|\n",
      "|  0.0|       0.0|[0.84932043444714...|\n",
      "+-----+----------+--------------------+\n",
      "only showing top 5 rows\n",
      "\n"
     ]
    }
   ],
   "source": [
    "#comparing the predictions with known values\n",
    "prediction_dt.select('label','prediction','probability').show(5)"
   ]
  },
  {
   "cell_type": "markdown",
   "metadata": {},
   "source": [
    "Now, we report the accuracy and test error on the test set using a method named MulticlassClassificationEvaluator"
   ]
  },
  {
   "cell_type": "code",
   "execution_count": 37,
   "metadata": {},
   "outputs": [
    {
     "name": "stdout",
     "output_type": "stream",
     "text": [
      "Accuracy =  0.83\n",
      "Test Error = 0.17\n"
     ]
    }
   ],
   "source": [
    "# Evaluator method to get metrics such as accuracy\n",
    "evaluator = MulticlassClassificationEvaluator(predictionCol=\"prediction\", labelCol=\"label\", metricName=\"accuracy\")\n",
    "accuracy_dt = round(evaluator.evaluate(prediction_dt),2)\n",
    "print(\"Accuracy = \",accuracy_dt)\n",
    "print(\"Test Error = %g\" % (1.0 - accuracy_dt))"
   ]
  },
  {
   "cell_type": "markdown",
   "metadata": {},
   "source": [
    "<b> Logistic Regression <b>"
   ]
  },
  {
   "cell_type": "markdown",
   "metadata": {},
   "source": [
    "Logistic Regression is a Machine Learning algorithm which is used for the classification problems, it is a predictive analysis algorithm and based on the concept of probability. The hypothesis of logistic regression tends it to limit the cost function between 0 and 1. Logistic Regression measures the relationship between the categorical dependent variable and one or more independent variables by estimating probabilities using a logistic/sigmoid function. "
   ]
  },
  {
   "cell_type": "markdown",
   "metadata": {},
   "source": [
    "We perform the same steps as we did to build Decision Tree Classifier."
   ]
  },
  {
   "cell_type": "code",
   "execution_count": 38,
   "metadata": {},
   "outputs": [],
   "source": [
    "#creating the logistic regression classifier\n",
    "logistic = LogisticRegression(featuresCol = 'features', labelCol = 'label',    maxIter=10)\n",
    "\n",
    "#fitting the model on the training set\n",
    "logistic = logistic.fit(trainDF)"
   ]
  },
  {
   "cell_type": "code",
   "execution_count": 39,
   "metadata": {},
   "outputs": [],
   "source": [
    "#predicting on the test set\n",
    "prediction_log = logistic.transform(testDF)"
   ]
  },
  {
   "cell_type": "code",
   "execution_count": 40,
   "metadata": {},
   "outputs": [
    {
     "name": "stdout",
     "output_type": "stream",
     "text": [
      "+-----+----------+--------------------+\n",
      "|label|prediction|         probability|\n",
      "+-----+----------+--------------------+\n",
      "|  0.0|       0.0|[0.88247113326762...|\n",
      "|  0.0|       0.0|[0.76122721635752...|\n",
      "|  0.0|       0.0|[0.80457114701391...|\n",
      "|  0.0|       0.0|[0.66702475060071...|\n",
      "|  0.0|       0.0|[0.89197265999358...|\n",
      "+-----+----------+--------------------+\n",
      "only showing top 5 rows\n",
      "\n"
     ]
    }
   ],
   "source": [
    "#comparing the predictions with known  values\n",
    "prediction_log.select('label','prediction','probability').show(5)"
   ]
  },
  {
   "cell_type": "code",
   "execution_count": 41,
   "metadata": {},
   "outputs": [
    {
     "name": "stdout",
     "output_type": "stream",
     "text": [
      "Accuracy =  0.82\n",
      "Test Error = 0.18\n"
     ]
    }
   ],
   "source": [
    "# Evaluator method to get metrics such as accuracy\n",
    "evaluator = MulticlassClassificationEvaluator(labelCol=\"label\", predictionCol=\"prediction\", metricName=\"accuracy\")\n",
    "accuracy_logit = round(evaluator.evaluate(prediction_log),2)\n",
    "print(\"Accuracy = \",accuracy_logit)\n",
    "print(\"Test Error = %g\" % (1.0 - accuracy_logit))"
   ]
  },
  {
   "cell_type": "markdown",
   "metadata": {},
   "source": [
    "<b> Random Forest <b>"
   ]
  },
  {
   "cell_type": "markdown",
   "metadata": {},
   "source": [
    "The random forest is a classification algorithm consisting of many decisions trees. It uses bagging and feature randomness when building each individual tree to try to create an uncorrelated forest of trees whose prediction by committee is more accurate than that of any individual tree. In the Random Forests algorithm, each new data point goes through the same process, but now it visits all the different trees in the ensemble, which are grown using random samples of both training data and features."
   ]
  },
  {
   "cell_type": "code",
   "execution_count": 42,
   "metadata": {},
   "outputs": [
    {
     "data": {
      "text/plain": [
       "[DecisionTreeClassificationModel (uid=dtc_e9b7b50396b9) of depth 5 with 37 nodes,\n",
       " DecisionTreeClassificationModel (uid=dtc_8a32f37bfccd) of depth 5 with 35 nodes,\n",
       " DecisionTreeClassificationModel (uid=dtc_bdb7673c9a6e) of depth 5 with 35 nodes,\n",
       " DecisionTreeClassificationModel (uid=dtc_15023e601fa3) of depth 5 with 29 nodes,\n",
       " DecisionTreeClassificationModel (uid=dtc_0cf30b23fa5b) of depth 5 with 45 nodes]"
      ]
     },
     "execution_count": 42,
     "metadata": {},
     "output_type": "execute_result"
    }
   ],
   "source": [
    "#creating the random forest classifier\n",
    "\n",
    "forest = RandomForestClassifier(numTrees=5, labelCol=\"label\",\\\n",
    "featuresCol=\"features\")\n",
    "\n",
    "#fitting the model on the training set\n",
    "forest = forest.fit(trainDF)\n",
    "forest.trees"
   ]
  },
  {
   "cell_type": "code",
   "execution_count": 43,
   "metadata": {},
   "outputs": [],
   "source": [
    "#predicting on the test set\n",
    "prediction_rf = forest.transform(testDF)"
   ]
  },
  {
   "cell_type": "code",
   "execution_count": 44,
   "metadata": {},
   "outputs": [
    {
     "name": "stdout",
     "output_type": "stream",
     "text": [
      "+-----+----------+--------------------+\n",
      "|label|prediction|         probability|\n",
      "+-----+----------+--------------------+\n",
      "|  0.0|       0.0|[0.88555505199138...|\n",
      "|  0.0|       0.0|[0.84801451395751...|\n",
      "|  0.0|       0.0|[0.85821416188567...|\n",
      "|  0.0|       0.0|[0.89205198937991...|\n",
      "|  0.0|       0.0|[0.89205198937991...|\n",
      "+-----+----------+--------------------+\n",
      "only showing top 5 rows\n",
      "\n"
     ]
    }
   ],
   "source": [
    "#comparing the predictions with known values\n",
    "prediction_rf.select('label','prediction','probability').show(5)"
   ]
  },
  {
   "cell_type": "code",
   "execution_count": 45,
   "metadata": {},
   "outputs": [
    {
     "data": {
      "text/plain": [
       "SparseVector(14, {0: 0.0058, 1: 0.0058, 2: 0.1134, 3: 0.0552, 4: 0.0058, 5: 0.0003, 6: 0.0055, 7: 0.7134, 8: 0.0112, 9: 0.0366, 10: 0.0065, 11: 0.0032, 12: 0.0019, 13: 0.0356})"
      ]
     },
     "execution_count": 45,
     "metadata": {},
     "output_type": "execute_result"
    }
   ],
   "source": [
    "forest.featureImportances"
   ]
  },
  {
   "cell_type": "code",
   "execution_count": 46,
   "metadata": {},
   "outputs": [
    {
     "name": "stdout",
     "output_type": "stream",
     "text": [
      "Accuracy =  0.83\n",
      "Test Error = 0.17\n"
     ]
    }
   ],
   "source": [
    "#evaluator method to get metrics such as accuracy\n",
    "\n",
    "evaluator = MulticlassClassificationEvaluator(labelCol=\"label\", predictionCol=\"prediction\", metricName=\"accuracy\")\n",
    "accuracy_rf = round(evaluator.evaluate(prediction_rf),2)\n",
    "print(\"Accuracy = \",accuracy_rf)\n",
    "print(\"Test Error = %g\" % (1 - accuracy_rf))"
   ]
  },
  {
   "cell_type": "markdown",
   "metadata": {},
   "source": [
    "<b> Gradient Boosting Tree <b>"
   ]
  },
  {
   "cell_type": "markdown",
   "metadata": {},
   "source": [
    "Gradient boosting is a machine learning technique for regression and classification problems, which produces a prediction model in the form of an ensemble of weak prediction models, typically decision trees. The objective of any supervised learning algorithm is to define a loss function and minimize it. By using gradient descent and updating our predictions based on a learning rate, we can find the values where Mean Squared Error is minimum. "
   ]
  },
  {
   "cell_type": "code",
   "execution_count": 47,
   "metadata": {},
   "outputs": [],
   "source": [
    "#creating the gradient boosting classifier\n",
    "\n",
    "gbt = GBTClassifier(maxIter=10)\n",
    "\n",
    "#fitting the model on the training set\n",
    "gbt = gbt.fit(trainDF)"
   ]
  },
  {
   "cell_type": "code",
   "execution_count": 48,
   "metadata": {},
   "outputs": [],
   "source": [
    "#predicting on the test set\n",
    "prediction_gbt = gbt.transform(testDF)"
   ]
  },
  {
   "cell_type": "code",
   "execution_count": 49,
   "metadata": {},
   "outputs": [
    {
     "name": "stdout",
     "output_type": "stream",
     "text": [
      "+-----+----------+--------------------+\n",
      "|label|prediction|         probability|\n",
      "+-----+----------+--------------------+\n",
      "|  0.0|       0.0|[0.90895460126015...|\n",
      "|  0.0|       0.0|[0.89036652651390...|\n",
      "|  0.0|       0.0|[0.88028985428337...|\n",
      "|  0.0|       0.0|[0.84332791236144...|\n",
      "|  0.0|       0.0|[0.92538630896616...|\n",
      "+-----+----------+--------------------+\n",
      "only showing top 5 rows\n",
      "\n"
     ]
    }
   ],
   "source": [
    "#comparing the predictions with known values\n",
    "prediction_gbt.select('label','prediction','probability').show(5)"
   ]
  },
  {
   "cell_type": "code",
   "execution_count": 50,
   "metadata": {},
   "outputs": [
    {
     "name": "stdout",
     "output_type": "stream",
     "text": [
      "Accuracy =  0.84\n",
      "Test Error = 0.16\n"
     ]
    }
   ],
   "source": [
    "#evaluator method to get the accuracy\n",
    "\n",
    "evaluator = MulticlassClassificationEvaluator(labelCol=\"label\", predictionCol=\"prediction\", metricName=\"accuracy\")\n",
    "accuracy_gbt = round(evaluator.evaluate(prediction_gbt),2)\n",
    "print(\"Accuracy = \",accuracy_gbt)\n",
    "print(\"Test Error = %g\" % (1.0 - accuracy_gbt))"
   ]
  },
  {
   "cell_type": "markdown",
   "metadata": {},
   "source": [
    "<b> Visualizing the Accuracy of all the models <b>"
   ]
  },
  {
   "cell_type": "code",
   "execution_count": 51,
   "metadata": {
    "scrolled": true
   },
   "outputs": [
    {
     "data": {
      "image/png": "[encoded data removed]",
      "text/plain": [
       "<Figure size 720x720 with 1 Axes>"
      ]
     },
     "metadata": {
      "needs_background": "light"
     },
     "output_type": "display_data"
    }
   ],
   "source": [
    "#creating a bar graph\n",
    "\n",
    "y=[accuracy_dt,accuracy_logit,accuracy_rf,accuracy_gbt]\n",
    "x=['Decision Tree','Logistic Regression','Random Forest','Gradient Boosting Tree']\n",
    "\n",
    "\n",
    "bar_width = 0.5\n",
    "\n",
    "x_pos = np.arange(len(x))\n",
    "plt.figure(figsize=(10,10))\n",
    "plt.bar(x_pos, y, bar_width, align='center', color='C0')\n",
    "plt.xticks(x_pos, x, rotation='vertical')\n",
    "plt.xlabel('Classifiers')\n",
    "plt.ylabel('Accuracy')\n",
    "plt.title('Comparison of Accuracy')\n",
    "plt.tight_layout()\n",
    "\n",
    "\n",
    "for pos, n in zip(range(4), y):\n",
    "    plt.annotate(str(round(n,4)), xy=(pos-0.08 , n+0.003))\n",
    "\n",
    "    \n",
    "plt.show()"
   ]
  },
  {
   "cell_type": "markdown",
   "metadata": {},
   "source": [
    "From the above bar chart, we can see that the accuracy generated by all the models are really good with Gradient Boosting and Random Forest leading with same accuracy."
   ]
  },
  {
   "cell_type": "markdown",
   "metadata": {},
   "source": [
    "### Step 8 Model Evaluation"
   ]
  },
  {
   "cell_type": "markdown",
   "metadata": {},
   "source": [
    "The final step is model evaluation. Here, we evaluate the model using a metric named Confusion Matrix which basically tells us about the number of mis-classifications done by the model. \n",
    "\n",
    "A confusion matrix consists of 4 values and it is represented in the form of a matrix. These four values represent the following:\n",
    "\n",
    "- A true positive test result is one that detects the condition when the condition is present. \n",
    "- A true negative test result is one that does not detect the condition when the condition is absent. \n",
    "- A false positive test result is one that detects the condition when the condition is absent. \n",
    "- A false negative test result is one that does not detect the condition when the condition is present. \n",
    "\n",
    "We also determine various other measures from the confusion matrix such as precision, recall and f1-score.\n",
    "\n",
    "- Precision - Precision (also called positive predictive value) is the fraction of relevant instances among the retrieved instances. \n",
    "- Recall - Recall (also known as sensitivity) is the fraction of the total amount of relevant instances that were actually retrieved. \n",
    "- F1-Score - The F measure (F1 score or F score) is a measure of a test's accuracy and is defined as the weighted harmonic mean of the precision and recall of the test.\n",
    "\n",
    "The above statistics are calculated as given in the picture below.\n",
    "\n",
    "\n",
    "<img src=\"https://daviddalpiaz.github.io/r4sl/images/confusion.png\" >\n",
    "\n",
    "\n",
    "\n",
    "<img src=\"https://i.stack.imgur.com/U0hjG.png\" >"
   ]
  },
  {
   "cell_type": "markdown",
   "metadata": {},
   "source": [
    "So, we generate the confusion matrix and various other measures such as Precision, Recall and f1-score of each created model as shown below"
   ]
  },
  {
   "cell_type": "markdown",
   "metadata": {},
   "source": [
    "<b> Decision Tree Model Evaluation <b>"
   ]
  },
  {
   "cell_type": "code",
   "execution_count": 52,
   "metadata": {},
   "outputs": [
    {
     "name": "stdout",
     "output_type": "stream",
     "text": [
      "The confusion matrix of Decision Tree Model is as follows: \n",
      "\n",
      "[[32272.   979.]\n",
      " [ 6287.  3061.]]\n",
      "--------------\n",
      "Decision Tree Model Metrics\n",
      "\n",
      "Accuracy = 0.83\n",
      "Precision = 0.33\n",
      "Recall = 0.76\n",
      "F1 Score = 0.46\n"
     ]
    }
   ],
   "source": [
    "#extracting the true label and model predictions into an key-value pair RDD\n",
    "prediction_dt_rdd = prediction_dt.select(['label', 'prediction']).rdd.map(lambda x: (x[1], x[0]))\n",
    "\n",
    "#instantiating a MulticlassMetrics object \n",
    "metrics = MulticlassMetrics(prediction_dt_rdd)\n",
    "\n",
    "# displaying the confusion Matrix\n",
    "print(\"The confusion matrix of Decision Tree Model is as follows: \\n\")\n",
    "print(metrics.confusionMatrix().toArray())\n",
    "\n",
    "# Retrieving the statistics from confusion matrix\n",
    "confusion_matrix=metrics.confusionMatrix().toArray()\n",
    "accuracy_dt=(confusion_matrix[0][0]+confusion_matrix[1][1])/confusion_matrix.sum()\n",
    "recall_dt=(confusion_matrix[1][1])/(confusion_matrix[1][1]+confusion_matrix[0][1])\n",
    "precision_dt=(confusion_matrix[1][1])/(confusion_matrix[1][1]+confusion_matrix[1][0]) \n",
    "f1score_dt = (2*precision_dt*recall_dt)/(precision_dt+recall_dt)\n",
    "\n",
    "print(\"--------------\\nDecision Tree Model Metrics\\n\")\n",
    "print(\"Accuracy = %s\" % round(accuracy_dt,2))\n",
    "print(\"Precision = %s\" % round(precision_dt,2))\n",
    "print(\"Recall = %s\" % round(recall_dt,2))\n",
    "print(\"F1 Score = %s\" % round(f1score_dt,2))"
   ]
  },
  {
   "cell_type": "markdown",
   "metadata": {},
   "source": [
    "<b> Logistic Regression Model Evaluation <b>"
   ]
  },
  {
   "cell_type": "code",
   "execution_count": 53,
   "metadata": {},
   "outputs": [
    {
     "name": "stdout",
     "output_type": "stream",
     "text": [
      "The confusion matrix of Logistic Regression Model is as follows: \n",
      "\n",
      "[[30847.  2404.]\n",
      " [ 5396.  3952.]]\n",
      "--------------\n",
      "Logistic Regression Model Metrics\n",
      "\n",
      "Accuracy = 0.82\n",
      "Precision = 0.42\n",
      "Recall = 0.62\n",
      "F1 Score = 0.5\n"
     ]
    }
   ],
   "source": [
    "#extracting the true label and model predictions into an key-value pair RDD\n",
    "prediction_log_rdd = prediction_log.select(['label', 'prediction']).rdd.map(lambda x: (x[1], x[0]))\n",
    "\n",
    "#instantiating a MulticlassMetrics object \n",
    "metrics = MulticlassMetrics(prediction_log_rdd)\n",
    "\n",
    "# displaying the confusion Matrix\n",
    "print(\"The confusion matrix of Logistic Regression Model is as follows: \\n\")\n",
    "print(metrics.confusionMatrix().toArray())\n",
    "\n",
    "# Retrieving the statistics from confusion matrix\n",
    "confusion_matrix=metrics.confusionMatrix().toArray()\n",
    "accuracy_log=(confusion_matrix[0][0]+confusion_matrix[1][1])/confusion_matrix.sum()\n",
    "recall_log=(confusion_matrix[1][1])/(confusion_matrix[1][1]+confusion_matrix[0][1])\n",
    "precision_log=(confusion_matrix[1][1])/(confusion_matrix[1][1]+confusion_matrix[1][0]) \n",
    "f1score_log = (2*precision_log*recall_log)/(precision_log+recall_log)\n",
    "\n",
    "print(\"--------------\\nLogistic Regression Model Metrics\\n\")\n",
    "print(\"Accuracy = %s\" % round(accuracy_log,2))\n",
    "print(\"Precision = %s\" % round(precision_log,2))\n",
    "print(\"Recall = %s\" % round(recall_log,2))\n",
    "print(\"F1 Score = %s\" % round(f1score_log,2))"
   ]
  },
  {
   "cell_type": "markdown",
   "metadata": {},
   "source": [
    "<b> Random Forest Model Evaluation <b>"
   ]
  },
  {
   "cell_type": "code",
   "execution_count": 54,
   "metadata": {},
   "outputs": [
    {
     "name": "stdout",
     "output_type": "stream",
     "text": [
      "The confusion matrix of Random Forest Model is as follows: \n",
      "\n",
      "[[31950.  1301.]\n",
      " [ 5737.  3611.]]\n",
      "--------------\n",
      "Random Forest Model Metrics\n",
      "\n",
      "Accuracy = 0.83\n",
      "Precision = 0.39\n",
      "Recall = 0.74\n",
      "F1 Score = 0.51\n"
     ]
    }
   ],
   "source": [
    "#extracting the true label and model predictions into an key-value pair RDD\n",
    "prediction_rf_rdd = prediction_rf.select(['label', 'prediction']).rdd.map(lambda x: (x[1], x[0]))\n",
    "\n",
    "#instantiating a MulticlassMetrics object \n",
    "metrics = MulticlassMetrics(prediction_rf_rdd)\n",
    "\n",
    "# displaying the confusion Matrix\n",
    "print(\"The confusion matrix of Random Forest Model is as follows: \\n\")\n",
    "print(metrics.confusionMatrix().toArray())\n",
    "\n",
    "# Retrieving the statistics from confusion matrix\n",
    "confusion_matrix=metrics.confusionMatrix().toArray()\n",
    "accuracy_rf=(confusion_matrix[0][0]+confusion_matrix[1][1])/confusion_matrix.sum()\n",
    "recall_rf=(confusion_matrix[1][1])/(confusion_matrix[1][1]+confusion_matrix[0][1])\n",
    "precision_rf=(confusion_matrix[1][1])/(confusion_matrix[1][1]+confusion_matrix[1][0]) \n",
    "f1score_rf = (2*precision_rf*recall_rf)/(precision_rf+recall_rf)\n",
    "\n",
    "print(\"--------------\\nRandom Forest Model Metrics\\n\")\n",
    "print(\"Accuracy = %s\" % round(accuracy_rf,2))\n",
    "print(\"Precision = %s\" % round(precision_rf,2))\n",
    "print(\"Recall = %s\" % round(recall_rf,2))\n",
    "print(\"F1 Score = %s\" % round(f1score_rf,2))"
   ]
  },
  {
   "cell_type": "markdown",
   "metadata": {},
   "source": [
    "<b> Gradient Boosting Model Evaluation <b>"
   ]
  },
  {
   "cell_type": "code",
   "execution_count": 55,
   "metadata": {},
   "outputs": [
    {
     "name": "stdout",
     "output_type": "stream",
     "text": [
      "The confusion matrix of Gradient Boosting Model is as follows: \n",
      "\n",
      "[[31612.  1639.]\n",
      " [ 5074.  4274.]]\n",
      "--------------\n",
      "Gradient Boosting Model Metrics\n",
      "\n",
      "Accuracy = 0.84\n",
      "Precision = 0.46\n",
      "Recall = 0.72\n",
      "F1 Score = 0.56\n"
     ]
    }
   ],
   "source": [
    "#extracting the true label and model predictions into an key-value pair RDD\n",
    "prediction_gbt_rdd = prediction_gbt.select(['label', 'prediction']).rdd.map(lambda x: (x[1], x[0]))\n",
    "\n",
    "#instantiating a MulticlassMetrics object \n",
    "metrics = MulticlassMetrics(prediction_gbt_rdd)\n",
    "\n",
    "# displaying the confusion Matrix\n",
    "print(\"The confusion matrix of Gradient Boosting Model is as follows: \\n\")\n",
    "print(metrics.confusionMatrix().toArray())\n",
    "\n",
    "# Retrieving the statistics from confusion matrix\n",
    "confusion_matrix=metrics.confusionMatrix().toArray()\n",
    "accuracy_gbt=(confusion_matrix[0][0]+confusion_matrix[1][1])/confusion_matrix.sum()\n",
    "recall_gbt=(confusion_matrix[1][1])/(confusion_matrix[1][1]+confusion_matrix[0][1])\n",
    "precision_gbt=(confusion_matrix[1][1])/(confusion_matrix[1][1]+confusion_matrix[1][0]) \n",
    "f1score_gbt = (2*precision_gbt*recall_gbt)/(precision_gbt+recall_gbt)\n",
    "\n",
    "print(\"--------------\\nGradient Boosting Model Metrics\\n\")\n",
    "print(\"Accuracy = %s\" % round(accuracy_gbt,2))\n",
    "print(\"Precision = %s\" % round(precision_gbt,2))\n",
    "print(\"Recall = %s\" % round(recall_gbt,2))\n",
    "print(\"F1 Score = %s\" % round(f1score_gbt,2))"
   ]
  },
  {
   "cell_type": "markdown",
   "metadata": {},
   "source": [
    "To summarise, the number of mis-classifications done by Gradient Boosting and Random Forest is less compared to Logistic Regression and Decision trees, thereby generating high accuracy."
   ]
  },
  {
   "cell_type": "markdown",
   "metadata": {},
   "source": [
    "<b> Strategies for Improving the Accuracy <b>"
   ]
  },
  {
   "cell_type": "markdown",
   "metadata": {},
   "source": [
    "Below are the strategies for improving the accuracy of the models"
   ]
  },
  {
   "cell_type": "markdown",
   "metadata": {},
   "source": [
    "* <u> Add More Data </u>: Having more data is always a good idea. It allows the data to tell for itself instead of relying on assumptions and weak correlations. Presence of more data results in better and accurate models.<br><br>\n",
    "\n",
    "* <u> More Significant Wrangling such as Outlier Detection </u>: Clean data helps to achieve the trade-off between bias and variance which improves the accuracy. Presence of outliers reduces the accuracy of the model and leads to a biased model. It leads to inaccurate predictions. This is because we don’t analyse the behavior and relationship with other variables correctly. So, it is important to treat the outlier values well.<br><br>\n",
    "\n",
    "* <u> Feature Engineering </u>: Feature engineering such as feature scaling (changing the scale of variable from original scale to a scale between 0 and 1) leads to a normally distributed data. Machine learning algorithms work well with normally distributed data having a Gaussian Distribution. Also, deriving new variables from existing variables known as feature creation helps to unleash the hidden relationship of a data set.<br><br>\n",
    "\n",
    "* <u> Feature Selection </u>: Selecting relevant/important features that explains the target/response variable is the most important one. It is better to remove irrelevant features that do not have any association with the target. Various strategies can be used for feature selection such as removing features having low variance, correlation analysis or getting an idea of the domain knowledge through domain experts and then removing the features that are less important ones.<br><br>\n",
    "\n",
    "* <u> Fine Tuning of Parameters </u>: Fine tuning of parameters helps us to find the optimum value of each parameter which is used to boost the accuracy of the model. For example: In random forest, we have various parameters like max_features, number_trees, random_state, oob_score and others which is shown below:\n",
    "\n",
    "<b><i> RandomForestClassifier(n_estimators=10, criterion='gini', max_depth=None,min_samples_split=2, min_samples_leaf=1, min_weight_fraction_leaf=0.0, max_features='auto', max_leaf_nodes=None,bootstrap=True, oob_score=False, n_jobs=1, random_state=None, verbose=0, warm_start=False,class_weight=None) </i></b>\n",
    "\n",
    "* <u> Use of Ensemble Methods </u>: Using Ensembling methods such as Bagging (Bootstrap Aggregation) and Boosting helps to produce better results by combining the result of multiple weak models, thereby increasing the accuracy of the model.\n",
    "\n",
    "\n",
    "And finally,\n",
    "\n",
    "* <u> Cross Validation </u>: Using Cross Validation methods, like K-fold cross validaion and Leave One Out Cross Validationb (LOOCV), we can train the data across several different samples covering the entire subset of training data thereby providing the best results."
   ]
  },
  {
   "cell_type": "markdown",
   "metadata": {},
   "source": [
    "### Conclusion\n",
    "\n",
    "Through this assignment, we have learnt how to use Machine Learning concepts using Apache Spark. We saw the performance of 4 different machine learning models on the weather data which produced accurate results. At the end, we discussed different strategies of improving the accuracy of the machine learning models. "
   ]
  }
 ],
 "metadata": {
  "kernelspec": {
   "display_name": "Python 3",
   "language": "python",
   "name": "python3"
  },
  "language_info": {
   "codemirror_mode": {
    "name": "ipython",
    "version": 3
   },
   "file_extension": ".py",
   "mimetype": "text/x-python",
   "name": "python",
   "nbconvert_exporter": "python",
   "pygments_lexer": "ipython3",
   "version": "3.7.3"
  }
 },
 "nbformat": 4,
 "nbformat_minor": 2
}
